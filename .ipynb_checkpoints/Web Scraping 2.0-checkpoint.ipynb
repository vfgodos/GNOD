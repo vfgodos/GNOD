{
 "cells": [
  {
   "cell_type": "code",
   "execution_count": 1,
   "id": "7a275797",
   "metadata": {},
   "outputs": [],
   "source": [
    "from bs4 import BeautifulSoup\n",
    "import requests\n",
    "import pandas as pd"
   ]
  },
  {
   "cell_type": "markdown",
   "id": "55f2ae13",
   "metadata": {},
   "source": [
    "## Lab | Web Scraping Single Page"
   ]
  },
  {
   "cell_type": "markdown",
   "id": "abbba06b",
   "metadata": {},
   "source": [
    "I will create a list with the songs from: http://www.popvortex.com/music/charts/top-100-songs.php"
   ]
  },
  {
   "cell_type": "code",
   "execution_count": 2,
   "id": "ad7eaf55",
   "metadata": {},
   "outputs": [],
   "source": [
    "url = \"http://www.popvortex.com/music/charts/top-100-songs.php\""
   ]
  },
  {
   "cell_type": "code",
   "execution_count": 3,
   "id": "af371a3f",
   "metadata": {},
   "outputs": [
    {
     "data": {
      "text/plain": [
       "200"
      ]
     },
     "execution_count": 3,
     "metadata": {},
     "output_type": "execute_result"
    }
   ],
   "source": [
    "response = requests.get(url)\n",
    "response.status_code"
   ]
  },
  {
   "cell_type": "code",
   "execution_count": 4,
   "id": "950ecb88",
   "metadata": {},
   "outputs": [],
   "source": [
    "soup = BeautifulSoup(response.content, \"html.parser\")"
   ]
  },
  {
   "cell_type": "code",
   "execution_count": null,
   "id": "742f5dd6",
   "metadata": {},
   "outputs": [],
   "source": [
    "soup"
   ]
  },
  {
   "cell_type": "code",
   "execution_count": 6,
   "id": "e056fdf4",
   "metadata": {},
   "outputs": [
    {
     "data": {
      "text/plain": [
       "[<cite class=\"title\">Stay Alive (Prod. by SUGA of BTS)</cite>]"
      ]
     },
     "execution_count": 6,
     "metadata": {},
     "output_type": "execute_result"
    }
   ],
   "source": [
    "soup.select(\"#chart-position-1 > div.chart-content.col-xs-12.col-sm-8 > p > cite\")"
   ]
  },
  {
   "cell_type": "code",
   "execution_count": 7,
   "id": "f3a12ad4",
   "metadata": {},
   "outputs": [
    {
     "data": {
      "text/plain": [
       "'Stay Alive (Prod. by SUGA of BTS)'"
      ]
     },
     "execution_count": 7,
     "metadata": {},
     "output_type": "execute_result"
    }
   ],
   "source": [
    "soup.select(\"cite.title\")[0].get_text()"
   ]
  },
  {
   "cell_type": "code",
   "execution_count": 8,
   "id": "f187b14b",
   "metadata": {},
   "outputs": [
    {
     "data": {
      "text/plain": [
       "[<em class=\"artist\">Jung Kook</em>]"
      ]
     },
     "execution_count": 8,
     "metadata": {},
     "output_type": "execute_result"
    }
   ],
   "source": [
    "soup.select(\"#chart-position-1 > div.chart-content.col-xs-12.col-sm-8 > p > em\")"
   ]
  },
  {
   "cell_type": "code",
   "execution_count": 9,
   "id": "849276f0",
   "metadata": {},
   "outputs": [
    {
     "data": {
      "text/plain": [
       "'Jung Kook'"
      ]
     },
     "execution_count": 9,
     "metadata": {},
     "output_type": "execute_result"
    }
   ],
   "source": [
    "soup.select(\"em.artist\")[0].get_text()"
   ]
  },
  {
   "cell_type": "code",
   "execution_count": 10,
   "id": "c97fabed",
   "metadata": {},
   "outputs": [
    {
     "name": "stdout",
     "output_type": "stream",
     "text": [
      "['Stay Alive (Prod. by SUGA of BTS)', 'The Next Episode (feat. Snoop Dogg)', 'Still D.R.E. (feat. Snoop Dogg)', 'Family Affair', 'Lose Yourself', 'California Love (feat. Roger Troutman & Dr. Dre)', 'Forgot About Dre (feat. Eminem)', \"Nuthin' but a G thang (feat. Snoop Dogg)\", 'The Joker And The Queen (feat. Taylor Swift)', 'In da Club', 'On My Way (Marry Me)', \"We Don't Talk About Bruno\", 'Lose Yourself', 'Gin and Juice (feat. Dat Nigga Daz)', 'No More Drama', 'MAMIII', 'Showdown', 'The Next Episode (feat. Snoop Dogg)', 'The Real Slim Shady', 'Bussin', \"Drop It Like It's Hot (feat. Pharrell Williams)\", 'Cold Heart (PNAU Remix)', 'Surface Pressure', 'In da Club', 'abcdefu', 'Unstoppable', 'Good Morning Gorgeous', 'Real Love', 'Still D.R.E. (feat. Snoop Dogg)', \"Ain't No Mountain High Enough\", 'Shivers', 'Without Me', 'AA', \"'Til You Can't\", \"Who Am I (What's My Name)?\", 'Suga Suga', 'God Over Government', 'Numb Little Bug', 'Love the Way You Lie (feat. Rihanna)', 'Easy On Me', 'Ghost', 'Big Energy', 'Heat Waves', 'Not Afraid', 'The Family Madrigal', 'Alright', 'In Jesus Name (God Of Possible)', 'THATS WHAT I WANT', 'Buy Dirt (feat. Luke Bryan)', 'Sand In My Boots', 'Marry Me (Kat & Bastian Duet)', 'In the Air Tonight', 'Oh My God', 'Fancy Like', 'You Should Probably Leave', 'California Love', \"Nuthin' but a G Thang (feat. Snoop Dogg)\", 'Love of My Life (Marry Me)', 'Easy', 'Total Eclipse of the Heart', 'What Else Can I Do?', 'Smokin Out The Window', \"Doin' This\", 'California Love (feat. Dr. Dre & Roger Troutman) [Remix]', \"'Till I Collapse (feat. Nate Dogg)\", 'Hrs and Hrs', 'Lose Yourself', 'Do We Have A Problem?', 'Woke Up This Morning (Detroit Mix)', \"Can't Get Enough of Your Love, Babe\", 'My Universe', \"Drunk (And I Don't Wanna Go Home)\", 'HUMBLE.', 'The Monster (feat. Rihanna)', 'Tennessee Whiskey', 'Broadway Girls (feat. Morgan Wallen)', 'After Love, Pt. 1', 'Marry Me (Ballad)', 'm.A.A.d city (feat. MC Eiht)', 'One In A Million', 'Shake That (feat. Nate Dogg)', 'I Need a Doctor (feat. Eminem & Skylar Grey)', 'Be Without You (Kendu Mix)', 'Waiting On A Miracle', 'Fall In Love', 'Boyfriend', 'We the People', 'Bad Habits', \"I'll Be Around\", 'The Motto', 'Stan (feat. Dido)', 'We Had It Good', \"Fuck wit Dre Day (And Everybody's Celebratin')\", 'Candy Shop (feat. Olivia)', 'GIVE HEAVEN SOME HELL', 'Enemy (From the series \"Arcane League of Legends\")', 'One Mississippi', \"Don't Forget My Love\", 'Perfect', 'My Name Is']\n",
      "['Jung Kook', 'Dr. Dre', 'Dr. Dre', 'Mary J. Blige', 'Eminem', '2Pac', 'Dr. Dre', 'Dr. Dre', 'Ed Sheeran', '50 Cent', 'Jennifer Lopez', 'Carolina Gaitán - La Gaita, Mauro Castillo, Adassa, Rhenzy Feliz, Diane Guerrero, Stephanie Beatriz & Encanto - Cast', 'Eminem', 'Snoop Dogg', 'Mary J. Blige', 'Becky G. & KAROL G', 'Electric Light Orchestra', 'Dr. Dre', 'Eminem', 'Nicki Minaj & Lil Baby', 'Snoop Dogg', 'Elton John & Dua Lipa', 'Jessica Darrow', '50 Cent', 'GAYLE', 'Sia', 'Mary J. Blige', 'Mary J. Blige', 'Dr. Dre', 'Marvin Gaye & Tammi Terrell', 'Ed Sheeran', 'Eminem', 'Walker Hayes', 'Cody Johnson', 'Snoop Dogg', 'Baby Bash', 'Hi-Rez & Jimmy Levy', 'Em Beihold', 'Eminem', 'Adele', 'Justin Bieber', 'Latto', 'Glass Animals', 'Eminem', 'Stephanie Beatriz, Olga Merediz & Encanto - Cast', 'Kendrick Lamar', 'Katy Nichole', 'Lil Nas X', 'Jordan Davis', 'Morgan Wallen', 'Jennifer Lopez & Maluma', 'State of Mine', 'Adele', 'Walker Hayes', 'Chris Stapleton', '2Pac featuring Dr. Dre & Roger Troutman', 'Dr. Dre', 'Jennifer Lopez', 'The Commodores', 'Bonnie Tyler', 'Diane Guerrero & Stephanie Beatriz', 'Bruno Mars, Anderson .Paak & Silk Sonic', 'Luke Combs', '2Pac', 'Eminem', 'Muni Long', 'Eminem', 'Nicki Minaj & Lil Baby', 'Alabama 3', 'Barry White', 'Coldplay X BTS', 'Elle King & Miranda Lambert', 'Kendrick Lamar', 'Eminem', 'Chris Stapleton', 'Lil Durk', 'Jennifer Lopez', 'Jennifer Lopez & Maluma', 'Kendrick Lamar', 'Aaliyah', 'Eminem', 'Dr. Dre', 'Mary J. Blige', 'Stephanie Beatriz', 'Bailey Zimmerman', 'Dove Cameron', 'Kid Rock', 'Ed Sheeran', 'The Spinners', 'Tiësto & Ava Max', 'Eminem', 'Chase Matthew', 'Dr. Dre', '50 Cent', 'HARDY', 'Imagine Dragons, JID & League of Legends', 'Kane Brown', 'Diplo & Miguel', 'Ed Sheeran', 'Eminem']\n"
     ]
    }
   ],
   "source": [
    "#for loop to get the list\n",
    "title = []\n",
    "artist = []\n",
    "\n",
    "num_iter = len(soup.select(\"cite.title\"))\n",
    "\n",
    "for i in range(num_iter):\n",
    "    title.append(soup.select(\"cite.title\")[i].get_text())\n",
    "    artist.append(soup.select(\"em.artist\")[i].get_text())\n",
    "\n",
    "print(title)\n",
    "print(artist)\n",
    "\n",
    "songs = pd.DataFrame({\"title\":title,\n",
    "                       \"artist\":artist\n",
    "                      })"
   ]
  },
  {
   "cell_type": "code",
   "execution_count": 11,
   "id": "785e57a6",
   "metadata": {},
   "outputs": [
    {
     "data": {
      "text/html": [
       "<div>\n",
       "<style scoped>\n",
       "    .dataframe tbody tr th:only-of-type {\n",
       "        vertical-align: middle;\n",
       "    }\n",
       "\n",
       "    .dataframe tbody tr th {\n",
       "        vertical-align: top;\n",
       "    }\n",
       "\n",
       "    .dataframe thead th {\n",
       "        text-align: right;\n",
       "    }\n",
       "</style>\n",
       "<table border=\"1\" class=\"dataframe\">\n",
       "  <thead>\n",
       "    <tr style=\"text-align: right;\">\n",
       "      <th></th>\n",
       "      <th>title</th>\n",
       "      <th>artist</th>\n",
       "    </tr>\n",
       "  </thead>\n",
       "  <tbody>\n",
       "    <tr>\n",
       "      <th>0</th>\n",
       "      <td>Stay Alive (Prod. by SUGA of BTS)</td>\n",
       "      <td>Jung Kook</td>\n",
       "    </tr>\n",
       "    <tr>\n",
       "      <th>1</th>\n",
       "      <td>The Next Episode (feat. Snoop Dogg)</td>\n",
       "      <td>Dr. Dre</td>\n",
       "    </tr>\n",
       "    <tr>\n",
       "      <th>2</th>\n",
       "      <td>Still D.R.E. (feat. Snoop Dogg)</td>\n",
       "      <td>Dr. Dre</td>\n",
       "    </tr>\n",
       "    <tr>\n",
       "      <th>3</th>\n",
       "      <td>Family Affair</td>\n",
       "      <td>Mary J. Blige</td>\n",
       "    </tr>\n",
       "    <tr>\n",
       "      <th>4</th>\n",
       "      <td>Lose Yourself</td>\n",
       "      <td>Eminem</td>\n",
       "    </tr>\n",
       "  </tbody>\n",
       "</table>\n",
       "</div>"
      ],
      "text/plain": [
       "                                 title         artist\n",
       "0    Stay Alive (Prod. by SUGA of BTS)      Jung Kook\n",
       "1  The Next Episode (feat. Snoop Dogg)        Dr. Dre\n",
       "2      Still D.R.E. (feat. Snoop Dogg)        Dr. Dre\n",
       "3                        Family Affair  Mary J. Blige\n",
       "4                        Lose Yourself         Eminem"
      ]
     },
     "execution_count": 11,
     "metadata": {},
     "output_type": "execute_result"
    }
   ],
   "source": [
    "songs.head()"
   ]
  },
  {
   "cell_type": "markdown",
   "id": "6ac60a62",
   "metadata": {},
   "source": [
    "I will create a list with the songs from: https://playback.fm/one-hit-wonders-2010s"
   ]
  },
  {
   "cell_type": "code",
   "execution_count": 12,
   "id": "e38c8631",
   "metadata": {},
   "outputs": [],
   "source": [
    "url = \"https://playback.fm/one-hit-wonders-2010s\""
   ]
  },
  {
   "cell_type": "code",
   "execution_count": 13,
   "id": "48dfd8da",
   "metadata": {},
   "outputs": [
    {
     "data": {
      "text/plain": [
       "200"
      ]
     },
     "execution_count": 13,
     "metadata": {},
     "output_type": "execute_result"
    }
   ],
   "source": [
    "response = requests.get(url)\n",
    "response.status_code"
   ]
  },
  {
   "cell_type": "code",
   "execution_count": 14,
   "id": "cc4d8e04",
   "metadata": {},
   "outputs": [],
   "source": [
    "soup = BeautifulSoup(response.content, \"html.parser\")"
   ]
  },
  {
   "cell_type": "code",
   "execution_count": 15,
   "id": "80e16230",
   "metadata": {},
   "outputs": [
    {
     "data": {
      "text/plain": [
       "[<p class=\"song-title\"><a href=\"/charts/top-100-songs/video/2016/ZAYN-PILLOWTALK\">PILLOWTALK</a>\n",
       " <span class=\"song-attribution\">by <strong>ZAYN</strong></span>\n",
       " <span class=\"one-hit-wonder-rank\">#2 - Pop</span>\n",
       " </p>]"
      ]
     },
     "execution_count": 15,
     "metadata": {},
     "output_type": "execute_result"
    }
   ],
   "source": [
    "soup.select(\"body > div.wrappercenter > div.wrapperbody.cf > div.playlist > div.content.post > div:nth-child(4) > div:nth-child(2) > p\")"
   ]
  },
  {
   "cell_type": "code",
   "execution_count": 16,
   "id": "1a30693c",
   "metadata": {},
   "outputs": [
    {
     "data": {
      "text/plain": [
       "'PILLOWTALK'"
      ]
     },
     "execution_count": 16,
     "metadata": {},
     "output_type": "execute_result"
    }
   ],
   "source": [
    "soup.select(\"p.song-title a\")[0].get_text()"
   ]
  },
  {
   "cell_type": "code",
   "execution_count": 17,
   "id": "a9fca380",
   "metadata": {},
   "outputs": [
    {
     "data": {
      "text/plain": [
       "'ZAYN'"
      ]
     },
     "execution_count": 17,
     "metadata": {},
     "output_type": "execute_result"
    }
   ],
   "source": [
    "soup.select(\"p.song-title strong\")[0].get_text()"
   ]
  },
  {
   "cell_type": "code",
   "execution_count": 18,
   "id": "838d999b",
   "metadata": {},
   "outputs": [
    {
     "name": "stdout",
     "output_type": "stream",
     "text": [
      "['PILLOWTALK', 'Me, Myself & I', 'Forever Country', 'Faded', 'Broccoli', '7 Years', 'Juju On That Beat (TZ Anthem)', 'Fast Car - Radio Edit', 'Burning House', 'Spirits', 'Trip Switch', \"Don't Mind\", 'Sugar (feat. Francesco Yates)', 'Mountain At My Gates', 'All We Ever Knew', 'Sleep Without You', 'Deja Vu', 'Cake By The Ocean', 'Ooouuu', 'Caroline', 'All My Friends', 'Where Are Ü Now (with Justin Bieber)', 'River', 'Hide Away', 'Chill Bill', 'YOUTH', 'Prophets Of Rage', 'I Met A Girl', 'Rock On', 'Be Right There', 'Fix', 'Through It All', 'Genghis Khan', 'White Iverson', 'X', 'Love Myself', 'Running Out', 'Gangsta', 'Dessert', 'No Problem', 'Jolene', 'Until The World Goes Cold', 'Switchblade', \"Ain't No Stopping Us Now\", 'Money Longer', 'Black Honey', 'Pick Any Small Town', 'Soundcheck', 'My Church', 'In Chains', 'Uber Everywhere', \"Ain't Nobody (Loves Me Better)\", 'Unlove You', 'Borro Cassette', '11:11', 'One Night', 'Reality - Radio Edit', 'Gold', 'Life Itself', 'Thy Will', 'Falling', 'The Eagle Has Landed', \"That's All I Need\", 'Ginza', 'Brazil', 'Picky', 'Gone', 'Wat U Mean (Aye, Aye, Aye)', 'Body', 'First', 'Watch Me', 'Cheerleader', 'Buy Me A Boat', 'Where Are Ü Now', 'Fight Song', 'Worth It', \"Honey, I'm Good.\", 'Smoke', 'Nasty', 'S.O.B.', 'Love You Like That', 'Locked Away', 'Somebody', '2 Heads', 'Nasty Freestyle', 'Long Way Down', \"Bet You Can't Do It Like Me\", 'Take It Back', 'Boyz-N-The Hood', 'Mona Lisa Smile', 'Classic Man', \"When I'm Gone\", \"Ex's & Oh's\", 'Become The Enemy', 'The Hanging Tree', 'Trailer Hitch', 'Backroad Song', 'Tuesday', 'Hit the Quan', 'Sedona', 'Dancing On Nails', \"Don't Wanna Fight\", 'Soldier', 'Electric Love', 'Budapest', 'Somebody New', 'Yoga', 'Hearts I Leave Behind', 'The Climb', 'Here', 'Sorry', 'Rude', 'Stolen Dance', 'Am I Wrong', '2 On', 'Take Me to Church', 'Boom Clap', \"It's About Time\", 'Me and My Broken Heart', 'Waves', 'The Worst', 'Room To Breathe', 'Wake Me Up', 'Tsunami (Jump)', 'Sunlight', 'Something I Need', 'Prayer in C', 'My Love', 'I Wanna Feel', 'I Have Nothing', 'Ghost', \"Do They Know It's Christmas?\", 'We Might Be Dead By Tomorrow', 'Wasted', 'You Got It All', 'Ride', 'Beggin For Thread', \"They Don't Know\", 'One For The Money', '24 Hours', 'Take The Bullets Away', 'Touch', 'The Mother We Share', 'Faded', 'Changes', 'Made Me', 'Bump & Grind 2014', 'You Sound Good To Me', 'Wild Life', 'Cardiac Arrest', 'Trainwreck 1979', 'Ready for Your Love', 'Dangerous', 'Lullaby', 'U Guessed It', 'Weekend', 'Braveheart', 'Take Me Home', 'Million Pound Girl (Badder Than Bad)', 'Got No Fans', 'Black Roses', '2AM.', 'Harlem Shake', 'Vilify', 'I Love It', 'Let Her Go', 'Say Something', 'Lolly', 'Safe and Sound', \"From Can To Can't\", \"It Won't Stop\", 'All Gold Everything', \"Cups (Pitch Perfect's When I'm Gone)\", 'The Fox', 'Love Me Again', \"Don't Drop That Thun Thun!\", 'Animals', 'Howl', 'La La La', 'Get Up (Rattle)', 'Look Right Through', 'Hurricane', 'Wop', \"Let's Get Ready to Rhumble\", 'Elephant', 'Skyscraper', \"Grandpa (Tell Me 'Bout The Good Old Days)\", 'So Good to Me', 'Fire, Fire', 'Ding-Dong! The Witch Is Dead', 'Who Booty', '23', 'Could It Be', 'San Francisco', 'Hero', 'American Beautiful', 'How Could I Want More', \"Sonnentanz (Sun Don't Shine)\", 'Jubel', 'Tightrope', 'What Do You Say', 'Reload', 'Recovery', 'Somebody That I Used to Know', 'Call Me Maybe', \"Don't You Worry Child\", 'Too Close', 'UP!', 'Drank In My Cup', 'Take A Walk', 'I Like It', 'We Come Running', 'Next to Me', 'Brokenhearted', 'Beneath Your Beautiful', 'Love And War', 'Did It For The Girl', '45', 'Curl Of The Burl', 'Heatwave', 'Bom Bom', 'Jump Into The Fog', 'Home Sweet Home', 'Snap Backs & Tattoos', 'Headlights', 'Young', 'The Power of Love', 'Twilight', \"He Ain't Heavy, He's My Brother\", 'Want U Back', 'Race You To The Bottom', 'Sleep Alone', 'Wanna Make You Love Me', 'America', 'Panic', 'Fly Together', 'Mr Saxobeat', 'Racks', 'Tonight, Tonight', 'New Low', 'Wishing On a Star', 'Lighters', 'Whirring', 'Midnight City', 'From A Table Away', 'I follow rivers', 'In The Dark', 'Lipstick', '4evermore', 'She Makes Me Wanna', 'Yonkers', 'Promises', 'Good Night', 'Georgia Clay', 'Holocene', 'This Is Why We Fight', 'Porn Star Dancing', 'Mountain Man', 'Stereo love', 'We No Speak Americano', 'Whip My Hair', 'Billionaire', 'Impossible', \"Wavin' Flag\", 'What Do You Want From Me?', 'Everybody Hurts', 'When We Collide', \"Live like we're dying\", 'Pray For You', 'Barbra Streisand', \"You're The One\", 'Heroes', 'Crossfire', 'Hold You (Hold Yuh)', 'Letters From The Sky', 'Over the Rainbow', 'The High Road', 'Hope She Cheats On You (With A Basketball Player)', 'Satellite', 'New Fang', 'Dirtee Disco', 'Shout', \"What's Not To Love\", 'Giddy On Up', 'Teach Me How To Dougie', 'Ready To Start', 'Best Song Ever']\n",
      "['ZAYN', 'G‐Eazy', 'Artists of Then, Now & Forever', 'Alan Walker', 'DRAM', 'Lukas Graham', 'Zay Hilfigerrr', 'Jonas Blue', 'Cam', 'The Strumbellas', 'Nothing But Thieves', 'Kent Jones', 'Robin Schulz', 'Foals', 'The Head and the Heart', 'Brett Young', 'J Álvarez', 'DNCE', 'Young M.A', 'Aminé', 'Snakehips', 'Jack Ü', 'Bishop Briggs', 'Daya', 'Rob $tone', 'Troye Sivan', 'Prophets of Rage', 'William Michael Morgan', 'Tucker Beathard', 'Diplo', 'Chris Lane', 'From Ashes to New', 'Miike Snow', 'Post Malone', 'Metro Boomin', 'Hailee Steinfeld', 'Matoma', 'Kehlani', 'Dawin', 'Chance the Rapper', 'Pentatonix', 'Trivium', 'Holy White Hounds', 'Big Daddy Kane', 'Lil Uzi Vert', 'Thrice', 'Josh Gallagher', 'Catfish and the Bottlemen', 'Maren Morris', 'Shaman’s Harvest', 'MadeinTYO', 'Felix Jaehn', 'Jennifer Nettles', 'Maluma', 'Dinosaur Pile‐Up', 'Lil Yachty', 'Lost Frequencies', 'Kiiara', 'Glass Animals', 'Hillary Scott & The Scott Family', 'Trent Harmon', 'Avatar', 'Dirty Freek', 'J Balvin', 'Declan McKenna', 'Joey Montana', 'JR JR', 'Dae Dae', 'Dreezy', 'Cold War Kids', 'Silentó', 'OMI', 'Chris Janson', 'Skrillex', 'Rachel Platten', 'Fifth Harmony', 'Andy Grammer', 'A Thousand Horses', 'Bandit Gang Marco', 'Nathaniel Rateliff & The Night Sweats', 'Canaan Smith', 'R. City', 'Natalie La Rose', 'Coleman Hell', 'T-Wayne', 'Robert DeLong', 'IamDLOW', 'The Temperance Movement', 'Eazy‐E', 'Wolf Alice', 'Jidenna', 'Joey + Rory', 'Elle King', 'Like a Storm', 'James Newton Howard', 'Kristian Bush', 'Granger Smith', 'iLoveMakonnen', 'iLoveMemphis', 'Houndmouth', 'We Are Harlot', 'Alabama Shakes', 'Damien', 'BØRNS', 'George Ezra', 'Joywave', 'Janelle Monáe', 'Pete Scobell Band', 'Zach Seabaugh', 'Alessia Cara', 'Meg Myers', 'MAGIC!', 'Milky Chance', 'Nico & Vinz', 'Tinashe', 'Hozier', 'Charli XCX', 'The Young Gods', 'Rixton', 'Mr. Probz', 'Jhené Aiko', 'You Me at Six', \"Gareth Malone's All Star Choir\", 'DVBBS', 'The Magician', 'Ben Haenow', 'Lilly Wood & The Prick', 'Route 94', 'Secondcity', 'Tessanne Chin', 'Ella Henderson', 'Band Aid 30', 'SoKo', 'Tiësto', 'Union', 'SoMo', 'Banks', 'Rico Love', 'Escape the Fate', 'Teeflii', 'We as Human', 'Shift K3Y', 'CHVRCHΞS', 'ZHU', 'Faul & Wad', 'Snootie Wild', 'Waze & Odyssey', 'Lucy Hale', 'Jack & Jack', 'Bad Suns', 'Death From Above', 'Gorgon City', 'Big Data', 'Professor Green', 'OG Maco', 'Priory', 'Neon Jungle', 'Cash Cash', 'Fuse ODG', 'The Wealdstone Raider', 'Clare Bowen', 'Adrian Marcel', 'Baauer', 'Device', 'Icona Pop', 'Passenger', 'A Great Big World', 'Maejor', 'Capital Cities', 'Dave Grohl', 'Sevyn Streeter', 'Trinidad James', 'Anna Kendrick', 'Ylvis', 'John Newman', 'Finatticz', 'Martin Garrix', 'Beware of Darkness', 'Naughty Boy', 'Bingo Players', 'Storm Queen', 'MS MR', 'J. Dash', 'PJ & Duncan', 'Tame Impala', 'Sam Bailey', 'Danielle Howle', 'Chris Malinchak', 'Heaven’s Basement', 'Harold Arlen', 'John Hart', 'Mike WiLL Made‐It', 'Charlie Worsham', 'The Mowgli’s', 'Family of the Year', 'The Henningsens', 'Jamie Lynn Spears', 'Klangkarussell', 'Klingande', 'I Walk the Line', 'CHARCOAL FILTER', 'Sebastian Ingrosso', 'Frank Turner', 'Gotye', 'Carly Rae Jepsen', 'Swedish House Mafia', 'Alex Clare', 'LoveRance', 'Kirko Bangz', 'Passion Pit', 'Foxy Shazam', 'Youngblood Hawke', 'Emeli Sandé', 'Karmin', 'Labrinth', 'Tamar Braxton', 'Greg Bates', 'The Gaslight Anthem', 'Mastodon', 'Wiley', 'Sam and the Womp', 'The Wombats', 'The Farm', 'Driicky Graham', 'Morning Parade', 'Tulisa', 'Gabrielle Aplin', 'Cover Drive', 'The Justice Collective', 'Cher Lloyd', 'New Medicine', 'Two Door Cinema Club', 'Andy Gibson', 'Deuce', 'Sublime with Rome', 'Red Café', 'Alexandra Stan', 'YC', 'Hot Chelle Rae', 'Middle Class Rut', 'The X Factor Finalists 2011', 'Bad Meets Evil', 'The Joy Formidable', 'M83', 'Sunny Sweeney', 'Lykke Li', 'DEV', 'Jedward', 'Anthony David', 'JLS', 'Tyler, the Creator', 'Nero', 'Reece Mastin', 'Josh Kelley', 'Bon Iver', 'The Decemberists', 'My Darkest Days', 'Crash Kings', 'Edward Maya', 'Yolanda Be Cool', 'WILLOW', 'Travie McCoy', 'Shontelle', 'K’naan', 'Adam Lambert', 'Helping Haiti', 'Matt Cardle', 'Kris Allen', 'Jaron and the Long Road to Love', 'Duck Sauce', 'Dondria', 'The X Factor Finalists 2010', 'Brandon Flowers', 'Gyptian', 'Civil Twilight', 'Israel Kamakawiwoʻole', 'Broken Bells', 'Marsha Ambrosius', 'Lena', 'Them Crooked Vultures', 'Dizzee Rascal', 'Shout for England', 'Dwele', 'Laura Bell Bundy', 'Cali Swag District', 'Arcade Fire', 'Katie Armiger']\n"
     ]
    }
   ],
   "source": [
    "title = []\n",
    "artist = []\n",
    "\n",
    "num_iter = len(soup.select(\"p.song-title a\"))\n",
    "\n",
    "for i in range(num_iter):\n",
    "    title.append(soup.select(\"p.song-title a\")[i].get_text())\n",
    "    artist.append(soup.select(\"p.song-title strong\")[i].get_text())\n",
    "\n",
    "print(title)\n",
    "print(artist)\n",
    "\n",
    "songs = pd.DataFrame({\"title\":title,\n",
    "                       \"artist\":artist\n",
    "                      })"
   ]
  },
  {
   "cell_type": "code",
   "execution_count": 19,
   "id": "3b2e43f6",
   "metadata": {},
   "outputs": [
    {
     "data": {
      "text/html": [
       "<div>\n",
       "<style scoped>\n",
       "    .dataframe tbody tr th:only-of-type {\n",
       "        vertical-align: middle;\n",
       "    }\n",
       "\n",
       "    .dataframe tbody tr th {\n",
       "        vertical-align: top;\n",
       "    }\n",
       "\n",
       "    .dataframe thead th {\n",
       "        text-align: right;\n",
       "    }\n",
       "</style>\n",
       "<table border=\"1\" class=\"dataframe\">\n",
       "  <thead>\n",
       "    <tr style=\"text-align: right;\">\n",
       "      <th></th>\n",
       "      <th>title</th>\n",
       "      <th>artist</th>\n",
       "    </tr>\n",
       "  </thead>\n",
       "  <tbody>\n",
       "    <tr>\n",
       "      <th>0</th>\n",
       "      <td>PILLOWTALK</td>\n",
       "      <td>ZAYN</td>\n",
       "    </tr>\n",
       "    <tr>\n",
       "      <th>1</th>\n",
       "      <td>Me, Myself &amp; I</td>\n",
       "      <td>G‐Eazy</td>\n",
       "    </tr>\n",
       "    <tr>\n",
       "      <th>2</th>\n",
       "      <td>Forever Country</td>\n",
       "      <td>Artists of Then, Now &amp; Forever</td>\n",
       "    </tr>\n",
       "    <tr>\n",
       "      <th>3</th>\n",
       "      <td>Faded</td>\n",
       "      <td>Alan Walker</td>\n",
       "    </tr>\n",
       "    <tr>\n",
       "      <th>4</th>\n",
       "      <td>Broccoli</td>\n",
       "      <td>DRAM</td>\n",
       "    </tr>\n",
       "  </tbody>\n",
       "</table>\n",
       "</div>"
      ],
      "text/plain": [
       "             title                          artist\n",
       "0       PILLOWTALK                            ZAYN\n",
       "1   Me, Myself & I                          G‐Eazy\n",
       "2  Forever Country  Artists of Then, Now & Forever\n",
       "3            Faded                     Alan Walker\n",
       "4         Broccoli                            DRAM"
      ]
     },
     "execution_count": 19,
     "metadata": {},
     "output_type": "execute_result"
    }
   ],
   "source": [
    "songs.head()"
   ]
  },
  {
   "cell_type": "markdown",
   "id": "897cbc98",
   "metadata": {},
   "source": [
    "## Lab | Web Scraping Multiple Pages"
   ]
  },
  {
   "cell_type": "markdown",
   "id": "5cb2e431",
   "metadata": {},
   "source": [
    "I will make a list with all the songs that appear in the different decades\n",
    "from: https://playback.fm/one-hit-wonders-2010s"
   ]
  },
  {
   "cell_type": "code",
   "execution_count": 22,
   "id": "bcb64121",
   "metadata": {},
   "outputs": [
    {
     "data": {
      "text/plain": [
       "[1900, 1910, 1920, 1930, 1940, 1950, 1960, 1970, 1980, 1990, 2000, 2010]"
      ]
     },
     "execution_count": 22,
     "metadata": {},
     "output_type": "execute_result"
    }
   ],
   "source": [
    "iterations = range(1900, 2011, 10)\n",
    "[i for i in iterations]"
   ]
  },
  {
   "cell_type": "code",
   "execution_count": 23,
   "id": "71bc2d36",
   "metadata": {
    "scrolled": true
   },
   "outputs": [
    {
     "name": "stdout",
     "output_type": "stream",
     "text": [
      "Status code: 200\n",
      "I will sleep for 3 second/s.\n",
      "Status code: 200\n",
      "I will sleep for 4 second/s.\n",
      "Status code: 200\n",
      "I will sleep for 4 second/s.\n",
      "Status code: 200\n",
      "I will sleep for 2 second/s.\n",
      "Status code: 200\n",
      "I will sleep for 4 second/s.\n",
      "Status code: 200\n",
      "I will sleep for 2 second/s.\n",
      "Status code: 200\n",
      "I will sleep for 3 second/s.\n",
      "Status code: 200\n",
      "I will sleep for 2 second/s.\n",
      "Status code: 200\n",
      "I will sleep for 3 second/s.\n",
      "Status code: 200\n",
      "I will sleep for 3 second/s.\n",
      "Status code: 200\n",
      "I will sleep for 2 second/s.\n",
      "Status code: 200\n",
      "I will sleep for 2 second/s.\n"
     ]
    }
   ],
   "source": [
    "from time import sleep\n",
    "from random import randint\n",
    "pages = []\n",
    "\n",
    "for i in iterations:\n",
    "    # assemble the url:\n",
    "    start_at= str(i)\n",
    "    url = \"https://playback.fm/one-hit-wonders-\" + start_at + \"s\"\n",
    "\n",
    "    # download html with a get request:\n",
    "    response = requests.get(url)\n",
    "\n",
    "    # monitor the process by printing the status code\n",
    "    print(\"Status code: \" + str(response.status_code))\n",
    "\n",
    "    # store response into \"pages\" list\n",
    "    pages.append(response)\n",
    "\n",
    "    # respectful nap:\n",
    "    wait_time = randint(1,4)\n",
    "    print(\"I will sleep for \" + str(wait_time) + \" second/s.\")\n",
    "    sleep(wait_time)"
   ]
  },
  {
   "cell_type": "code",
   "execution_count": 24,
   "id": "d4f5c027",
   "metadata": {},
   "outputs": [
    {
     "name": "stdout",
     "output_type": "stream",
     "text": [
      "2994\n",
      "2994\n"
     ]
    }
   ],
   "source": [
    "pages_parsed = []\n",
    "titles = []\n",
    "artists = []\n",
    "\n",
    "for i in range(len(pages)):\n",
    "    # parse all pages\n",
    "    pages_parsed.append(BeautifulSoup(pages[i].content, \"html.parser\"))\n",
    "    # select only the info about the songs\n",
    "    songs_html = pages_parsed[i].select(\"div.content.post\")\n",
    "    # for song, store title and artist into lists\n",
    "    for j in range(len(songs_html)):\n",
    "        num_iter = len(songs_html[j].select(\"p.song-title a\"))\n",
    "        for k in range(num_iter):\n",
    "            titles.append(songs_html[j].select(\"p.song-title a\")[k].get_text())\n",
    "            artists.append(songs_html[j].select(\"p.song-title strong\")[k].get_text().strip())\n",
    "\n",
    "# Checking the output:\n",
    "\n",
    "print(len(titles)) \n",
    "print(len(artists))  "
   ]
  },
  {
   "cell_type": "code",
   "execution_count": 25,
   "id": "2f48fd6d",
   "metadata": {},
   "outputs": [
    {
     "data": {
      "text/html": [
       "<div>\n",
       "<style scoped>\n",
       "    .dataframe tbody tr th:only-of-type {\n",
       "        vertical-align: middle;\n",
       "    }\n",
       "\n",
       "    .dataframe tbody tr th {\n",
       "        vertical-align: top;\n",
       "    }\n",
       "\n",
       "    .dataframe thead th {\n",
       "        text-align: right;\n",
       "    }\n",
       "</style>\n",
       "<table border=\"1\" class=\"dataframe\">\n",
       "  <thead>\n",
       "    <tr style=\"text-align: right;\">\n",
       "      <th></th>\n",
       "      <th>title</th>\n",
       "      <th>artist</th>\n",
       "    </tr>\n",
       "  </thead>\n",
       "  <tbody>\n",
       "    <tr>\n",
       "      <th>0</th>\n",
       "      <td>Swing Low, Sweet Chariot</td>\n",
       "      <td>Fisk University Jubilee Quartet</td>\n",
       "    </tr>\n",
       "    <tr>\n",
       "      <th>1</th>\n",
       "      <td>I've Got Rings on My Fingers</td>\n",
       "      <td>Jule Styne</td>\n",
       "    </tr>\n",
       "    <tr>\n",
       "      <th>2</th>\n",
       "      <td>Moonstruck</td>\n",
       "      <td>Gertie Millar</td>\n",
       "    </tr>\n",
       "    <tr>\n",
       "      <th>3</th>\n",
       "      <td>Yip-I-Addy-I-Ay</td>\n",
       "      <td>George Grossmith Jr.</td>\n",
       "    </tr>\n",
       "    <tr>\n",
       "      <th>4</th>\n",
       "      <td>Bring Me a Rose</td>\n",
       "      <td>Phyllis Dare</td>\n",
       "    </tr>\n",
       "    <tr>\n",
       "      <th>...</th>\n",
       "      <td>...</td>\n",
       "      <td>...</td>\n",
       "    </tr>\n",
       "    <tr>\n",
       "      <th>2989</th>\n",
       "      <td>What's Not To Love</td>\n",
       "      <td>Dwele</td>\n",
       "    </tr>\n",
       "    <tr>\n",
       "      <th>2990</th>\n",
       "      <td>Giddy On Up</td>\n",
       "      <td>Laura Bell Bundy</td>\n",
       "    </tr>\n",
       "    <tr>\n",
       "      <th>2991</th>\n",
       "      <td>Teach Me How To Dougie</td>\n",
       "      <td>Cali Swag District</td>\n",
       "    </tr>\n",
       "    <tr>\n",
       "      <th>2992</th>\n",
       "      <td>Ready To Start</td>\n",
       "      <td>Arcade Fire</td>\n",
       "    </tr>\n",
       "    <tr>\n",
       "      <th>2993</th>\n",
       "      <td>Best Song Ever</td>\n",
       "      <td>Katie Armiger</td>\n",
       "    </tr>\n",
       "  </tbody>\n",
       "</table>\n",
       "<p>2994 rows × 2 columns</p>\n",
       "</div>"
      ],
      "text/plain": [
       "                             title                           artist\n",
       "0         Swing Low, Sweet Chariot  Fisk University Jubilee Quartet\n",
       "1     I've Got Rings on My Fingers                       Jule Styne\n",
       "2                       Moonstruck                    Gertie Millar\n",
       "3                  Yip-I-Addy-I-Ay             George Grossmith Jr.\n",
       "4                  Bring Me a Rose                     Phyllis Dare\n",
       "...                            ...                              ...\n",
       "2989            What's Not To Love                            Dwele\n",
       "2990                   Giddy On Up                 Laura Bell Bundy\n",
       "2991        Teach Me How To Dougie               Cali Swag District\n",
       "2992                Ready To Start                      Arcade Fire\n",
       "2993                Best Song Ever                    Katie Armiger\n",
       "\n",
       "[2994 rows x 2 columns]"
      ]
     },
     "execution_count": 25,
     "metadata": {},
     "output_type": "execute_result"
    }
   ],
   "source": [
    "import pandas as pd\n",
    "topsongs = pd.DataFrame({\"title\":titles,\n",
    "                              \"artist\":artists\n",
    "                             })\n",
    "topsongs"
   ]
  },
  {
   "cell_type": "code",
   "execution_count": 26,
   "id": "fa2f88b0",
   "metadata": {},
   "outputs": [
    {
     "name": "stdout",
     "output_type": "stream",
     "text": [
      "Length of the dataset: 2994\n",
      "Length of the dataset without duplicates: 2993\n"
     ]
    }
   ],
   "source": [
    "print(\"Length of the dataset:\", len(topsongs))\n",
    "print(\"Length of the dataset without duplicates:\", len(topsongs.drop_duplicates()))"
   ]
  },
  {
   "cell_type": "code",
   "execution_count": 27,
   "id": "6338cc12",
   "metadata": {},
   "outputs": [],
   "source": [
    "topsongs = topsongs.drop_duplicates()"
   ]
  },
  {
   "cell_type": "markdown",
   "id": "8bcd2718",
   "metadata": {},
   "source": [
    "### 1st prototype"
   ]
  },
  {
   "cell_type": "code",
   "execution_count": 32,
   "id": "2f389e45",
   "metadata": {},
   "outputs": [
    {
     "name": "stdout",
     "output_type": "stream",
     "text": [
      "What is the song title?\n",
      "Le Trottoir De L'exposition\n"
     ]
    }
   ],
   "source": [
    "print(\"What is the song title?\")\n",
    "song = input()"
   ]
  },
  {
   "cell_type": "code",
   "execution_count": 33,
   "id": "17a407f6",
   "metadata": {},
   "outputs": [
    {
     "name": "stdout",
     "output_type": "stream",
     "text": [
      "Recommended song: Rock And Roll Dreams Come Through\n"
     ]
    }
   ],
   "source": [
    "if song in topsongs['title'].values: \n",
    "    RecSong = topsongs['title'].sample().to_string(index=False)\n",
    "    print(\"Recommended song:\", RecSong)\n",
    "else: \n",
    "    print('Your song is not a \"Hot song\"')"
   ]
  }
 ],
 "metadata": {
  "kernelspec": {
   "display_name": "Python 3 (ipykernel)",
   "language": "python",
   "name": "python3"
  },
  "language_info": {
   "codemirror_mode": {
    "name": "ipython",
    "version": 3
   },
   "file_extension": ".py",
   "mimetype": "text/x-python",
   "name": "python",
   "nbconvert_exporter": "python",
   "pygments_lexer": "ipython3",
   "version": "3.9.7"
  }
 },
 "nbformat": 4,
 "nbformat_minor": 5
}
