{
 "cells": [
  {
   "cell_type": "code",
   "execution_count": 1,
   "id": "dd72165b",
   "metadata": {},
   "outputs": [],
   "source": [
    "from bs4 import BeautifulSoup\n",
    "import requests\n",
    "import pandas as pd"
   ]
  },
  {
   "cell_type": "code",
   "execution_count": 2,
   "id": "89a127d0",
   "metadata": {},
   "outputs": [],
   "source": [
    "url = \"http://www.popvortex.com/music/charts/top-100-songs.php\""
   ]
  },
  {
   "cell_type": "code",
   "execution_count": 3,
   "id": "f595c9f9",
   "metadata": {},
   "outputs": [
    {
     "data": {
      "text/plain": [
       "200"
      ]
     },
     "execution_count": 3,
     "metadata": {},
     "output_type": "execute_result"
    }
   ],
   "source": [
    "response = requests.get(url)\n",
    "response.status_code"
   ]
  },
  {
   "cell_type": "code",
   "execution_count": 4,
   "id": "0a518fc2",
   "metadata": {},
   "outputs": [],
   "source": [
    "soup = BeautifulSoup(response.content, \"html.parser\")"
   ]
  },
  {
   "cell_type": "code",
   "execution_count": null,
   "id": "f98750ef",
   "metadata": {},
   "outputs": [],
   "source": [
    "soup"
   ]
  },
  {
   "cell_type": "code",
   "execution_count": 6,
   "id": "b1918899",
   "metadata": {},
   "outputs": [
    {
     "data": {
      "text/plain": [
       "[<cite class=\"title\">Stay Alive (Prod. by SUGA of BTS)</cite>]"
      ]
     },
     "execution_count": 6,
     "metadata": {},
     "output_type": "execute_result"
    }
   ],
   "source": [
    "soup.select(\"#chart-position-1 > div.chart-content.col-xs-12.col-sm-8 > p > cite\")"
   ]
  },
  {
   "cell_type": "code",
   "execution_count": 10,
   "id": "76b2f459",
   "metadata": {},
   "outputs": [
    {
     "data": {
      "text/plain": [
       "'Stay Alive (Prod. by SUGA of BTS)'"
      ]
     },
     "execution_count": 10,
     "metadata": {},
     "output_type": "execute_result"
    }
   ],
   "source": [
    "soup.select(\"cite.title\")[0].get_text()"
   ]
  },
  {
   "cell_type": "code",
   "execution_count": 11,
   "id": "5cd7dde4",
   "metadata": {},
   "outputs": [
    {
     "data": {
      "text/plain": [
       "[<em class=\"artist\">Jung Kook</em>]"
      ]
     },
     "execution_count": 11,
     "metadata": {},
     "output_type": "execute_result"
    }
   ],
   "source": [
    "soup.select(\"#chart-position-1 > div.chart-content.col-xs-12.col-sm-8 > p > em\")"
   ]
  },
  {
   "cell_type": "code",
   "execution_count": 13,
   "id": "ba99e660",
   "metadata": {},
   "outputs": [
    {
     "data": {
      "text/plain": [
       "'Jung Kook'"
      ]
     },
     "execution_count": 13,
     "metadata": {},
     "output_type": "execute_result"
    }
   ],
   "source": [
    "soup.select(\"em.artist\")[0].get_text()"
   ]
  },
  {
   "cell_type": "code",
   "execution_count": 14,
   "id": "bf917727",
   "metadata": {},
   "outputs": [
    {
     "name": "stdout",
     "output_type": "stream",
     "text": [
      "['Stay Alive (Prod. by SUGA of BTS)', 'Family Affair', 'The Next Episode (feat. Snoop Dogg)', 'Still D.R.E. (feat. Snoop Dogg)', 'Lose Yourself', 'The Joker And The Queen (feat. Taylor Swift)', 'California Love (feat. Roger Troutman & Dr. Dre)', 'Forgot About Dre (feat. Eminem)', \"Nuthin' but a G thang (feat. Snoop Dogg)\", 'On My Way (Marry Me)', \"We Don't Talk About Bruno\", 'MAMIII', 'Showdown', 'In da Club', 'Gin and Juice (feat. Dat Nigga Daz)', 'Bussin', 'Lose Yourself', 'Cold Heart (PNAU Remix)', 'Unstoppable', 'Surface Pressure', 'abcdefu', 'The Real Slim Shady', 'Shivers', 'The Next Episode (feat. Snoop Dogg)', 'No More Drama', \"Ain't No Mountain High Enough\", 'Real Love', 'AA', 'God Over Government', \"Drop It Like It's Hot (feat. Pharrell Williams)\", \"'Til You Can't\", 'Good Morning Gorgeous', 'Without Me', 'In da Club', 'Numb Little Bug', 'Easy On Me', 'Ghost', 'Suga Suga', 'Big Energy', 'Still D.R.E. (feat. Snoop Dogg)', 'Heat Waves', 'In the Air Tonight', \"Who Am I (What's My Name)?\", 'The Family Madrigal', 'Buy Dirt (feat. Luke Bryan)', 'Total Eclipse of the Heart', 'Love the Way You Lie (feat. Rihanna)', 'Oh My God', 'Fancy Like', 'THATS WHAT I WANT', 'Sand In My Boots', 'Marry Me (Kat & Bastian Duet)', 'Easy', 'In Jesus Name (God Of Possible)', 'What Else Can I Do?', 'You Should Probably Leave', 'Love of My Life (Marry Me)', 'Smokin Out The Window', \"Doin' This\", 'Do We Have A Problem?', 'My Universe', \"Can't Get Enough of Your Love, Babe\", 'Not Afraid', \"Drunk (And I Don't Wanna Go Home)\", \"Nuthin' but a G Thang (feat. Snoop Dogg)\", 'After Love, Pt. 1', 'Tennessee Whiskey', 'Boyfriend', 'Alright', \"'Till I Collapse (feat. Nate Dogg)\", 'Marry Me (Ballad)', 'Broadway Girls (feat. Morgan Wallen)', 'Hrs and Hrs', 'California Love', 'Fall In Love', 'Bad Habits', 'We the People', 'Broken Neon Hearts', 'HUMBLE.', 'Waiting On A Miracle', \"I'll Be Around\", 'The Motto', 'One In A Million', 'We Had It Good', 'One Mississippi', \"When I'm Gone\", 'Enemy (From the series \"Arcane League of Legends\")', 'Welcome to the Jungle', 'GIVE HEAVEN SOME HELL', 'Woke Up This Morning (Detroit Mix)', 'The Monster (feat. Rihanna)', 'Do It To It (feat. Cherish)', 'California Love (feat. Dr. Dre & Roger Troutman) [Remix]', \"Don't You (Forget About Me)\", 'Here Comes the Hotstepper (Heartical Mix)', 'To Be Loved By You', 'Lose Yourself', 'City of Gods', 'Shake That (feat. Nate Dogg)', 'Be Without You (Kendu Mix)']\n",
      "['Jung Kook', 'Mary J. Blige', 'Dr. Dre', 'Dr. Dre', 'Eminem', 'Ed Sheeran', '2Pac', 'Dr. Dre', 'Dr. Dre', 'Jennifer Lopez', 'Carolina Gaitán - La Gaita, Mauro Castillo, Adassa, Rhenzy Feliz, Diane Guerrero, Stephanie Beatriz & Encanto - Cast', 'Becky G. & KAROL G', 'Electric Light Orchestra', '50 Cent', 'Snoop Dogg', 'Nicki Minaj & Lil Baby', 'Eminem', 'Elton John & Dua Lipa', 'Sia', 'Jessica Darrow', 'GAYLE', 'Eminem', 'Ed Sheeran', 'Dr. Dre', 'Mary J. Blige', 'Marvin Gaye & Tammi Terrell', 'Mary J. Blige', 'Walker Hayes', 'Hi-Rez & Jimmy Levy', 'Snoop Dogg', 'Cody Johnson', 'Mary J. Blige', 'Eminem', '50 Cent', 'Em Beihold', 'Adele', 'Justin Bieber', 'Baby Bash', 'Latto', 'Dr. Dre', 'Glass Animals', 'State of Mine', 'Snoop Dogg', 'Stephanie Beatriz, Olga Merediz & Encanto - Cast', 'Jordan Davis', 'Bonnie Tyler', 'Eminem', 'Adele', 'Walker Hayes', 'Lil Nas X', 'Morgan Wallen', 'Jennifer Lopez & Maluma', 'The Commodores', 'Katy Nichole', 'Diane Guerrero & Stephanie Beatriz', 'Chris Stapleton', 'Jennifer Lopez', 'Bruno Mars, Anderson .Paak & Silk Sonic', 'Luke Combs', 'Nicki Minaj & Lil Baby', 'Coldplay X BTS', 'Barry White', 'Eminem', 'Elle King & Miranda Lambert', 'Dr. Dre', 'Jennifer Lopez', 'Chris Stapleton', 'Dove Cameron', 'Kendrick Lamar', 'Eminem', 'Jennifer Lopez & Maluma', 'Lil Durk', 'Muni Long', '2Pac featuring Dr. Dre & Roger Troutman', 'Bailey Zimmerman', 'Ed Sheeran', 'Kid Rock', 'Ronnie Dunn', 'Kendrick Lamar', 'Stephanie Beatriz', 'The Spinners', 'Tiësto & Ava Max', 'Aaliyah', 'Chase Matthew', 'Kane Brown', 'Alesso & Katy Perry', 'Imagine Dragons, JID & League of Legends', \"Guns N' Roses\", 'HARDY', 'Alabama 3', 'Eminem', 'Acraze', '2Pac', 'Simple Minds', 'Ini Kamoze', 'Parker McCollum', 'Eminem', 'Fivio Foreign, Kanye West & Alicia Keys', 'Eminem', 'Mary J. Blige']\n"
     ]
    }
   ],
   "source": [
    "#for loop to get the list\n",
    "title = []\n",
    "artist = []\n",
    "\n",
    "num_iter = len(soup.select(\"cite.title\"))\n",
    "\n",
    "for i in range(num_iter):\n",
    "    title.append(soup.select(\"cite.title\")[i].get_text())\n",
    "    artist.append(soup.select(\"em.artist\")[i].get_text())\n",
    "\n",
    "print(title)\n",
    "print(artist)\n",
    "\n",
    "songs = pd.DataFrame({\"title\":title,\n",
    "                       \"artist\":artist\n",
    "                      })"
   ]
  },
  {
   "cell_type": "code",
   "execution_count": 17,
   "id": "6e41c336",
   "metadata": {},
   "outputs": [
    {
     "data": {
      "text/html": [
       "<div>\n",
       "<style scoped>\n",
       "    .dataframe tbody tr th:only-of-type {\n",
       "        vertical-align: middle;\n",
       "    }\n",
       "\n",
       "    .dataframe tbody tr th {\n",
       "        vertical-align: top;\n",
       "    }\n",
       "\n",
       "    .dataframe thead th {\n",
       "        text-align: right;\n",
       "    }\n",
       "</style>\n",
       "<table border=\"1\" class=\"dataframe\">\n",
       "  <thead>\n",
       "    <tr style=\"text-align: right;\">\n",
       "      <th></th>\n",
       "      <th>title</th>\n",
       "      <th>artist</th>\n",
       "    </tr>\n",
       "  </thead>\n",
       "  <tbody>\n",
       "    <tr>\n",
       "      <th>0</th>\n",
       "      <td>Stay Alive (Prod. by SUGA of BTS)</td>\n",
       "      <td>Jung Kook</td>\n",
       "    </tr>\n",
       "    <tr>\n",
       "      <th>1</th>\n",
       "      <td>Family Affair</td>\n",
       "      <td>Mary J. Blige</td>\n",
       "    </tr>\n",
       "    <tr>\n",
       "      <th>2</th>\n",
       "      <td>The Next Episode (feat. Snoop Dogg)</td>\n",
       "      <td>Dr. Dre</td>\n",
       "    </tr>\n",
       "    <tr>\n",
       "      <th>3</th>\n",
       "      <td>Still D.R.E. (feat. Snoop Dogg)</td>\n",
       "      <td>Dr. Dre</td>\n",
       "    </tr>\n",
       "    <tr>\n",
       "      <th>4</th>\n",
       "      <td>Lose Yourself</td>\n",
       "      <td>Eminem</td>\n",
       "    </tr>\n",
       "  </tbody>\n",
       "</table>\n",
       "</div>"
      ],
      "text/plain": [
       "                                 title         artist\n",
       "0    Stay Alive (Prod. by SUGA of BTS)      Jung Kook\n",
       "1                        Family Affair  Mary J. Blige\n",
       "2  The Next Episode (feat. Snoop Dogg)        Dr. Dre\n",
       "3      Still D.R.E. (feat. Snoop Dogg)        Dr. Dre\n",
       "4                        Lose Yourself         Eminem"
      ]
     },
     "execution_count": 17,
     "metadata": {},
     "output_type": "execute_result"
    }
   ],
   "source": [
    "songs.head()"
   ]
  },
  {
   "cell_type": "code",
   "execution_count": null,
   "id": "4a71517f",
   "metadata": {},
   "outputs": [],
   "source": []
  }
 ],
 "metadata": {
  "kernelspec": {
   "display_name": "Python 3 (ipykernel)",
   "language": "python",
   "name": "python3"
  },
  "language_info": {
   "codemirror_mode": {
    "name": "ipython",
    "version": 3
   },
   "file_extension": ".py",
   "mimetype": "text/x-python",
   "name": "python",
   "nbconvert_exporter": "python",
   "pygments_lexer": "ipython3",
   "version": "3.9.7"
  }
 },
 "nbformat": 4,
 "nbformat_minor": 5
}
