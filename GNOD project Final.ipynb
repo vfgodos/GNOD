{
 "cells": [
  {
   "cell_type": "markdown",
   "id": "e130ceeb",
   "metadata": {},
   "source": [
    "Libraries"
   ]
  },
  {
   "cell_type": "code",
   "execution_count": 1,
   "id": "e6f5262d",
   "metadata": {},
   "outputs": [],
   "source": [
    "import pandas as pd\n",
    "import numpy as np\n",
    "\n",
    "import spotipy\n",
    "from spotipy.oauth2 import SpotifyClientCredentials\n",
    "\n",
    "import requests\n",
    "from random import randint\n",
    "from time import sleep\n",
    "\n",
    "from sklearn import cluster, datasets\n",
    "from sklearn.preprocessing import StandardScaler\n",
    "from matplotlib.lines import Line2D\n",
    "\n",
    "from sklearn.cluster import KMeans\n",
    "\n",
    "import joblib"
   ]
  },
  {
   "cell_type": "markdown",
   "id": "b11a1a13",
   "metadata": {},
   "source": [
    "### Spotipy"
   ]
  },
  {
   "cell_type": "code",
   "execution_count": 2,
   "id": "a5d49fc6",
   "metadata": {},
   "outputs": [],
   "source": [
    "secrets_file = open(\"SpotifySecret.txt\",\"r\")"
   ]
  },
  {
   "cell_type": "code",
   "execution_count": 3,
   "id": "45b36436",
   "metadata": {},
   "outputs": [],
   "source": [
    "string = secrets_file.read()"
   ]
  },
  {
   "cell_type": "code",
   "execution_count": 4,
   "id": "6196fc57",
   "metadata": {},
   "outputs": [],
   "source": [
    "secrets_dict={}\n",
    "for line in string.split('\\n'):\n",
    "    if len(line) > 0:\n",
    "        secrets_dict[line.split(':')[0]]=line.split(':')[1]"
   ]
  },
  {
   "cell_type": "code",
   "execution_count": 5,
   "id": "abcd2e48",
   "metadata": {},
   "outputs": [],
   "source": [
    "#Initialize SpotiPy with user credentials\n",
    "sp = spotipy.Spotify(auth_manager=SpotifyClientCredentials(client_id=secrets_dict['cid'],\n",
    "                                                           client_secret=secrets_dict['cs']))"
   ]
  },
  {
   "cell_type": "code",
   "execution_count": null,
   "id": "8b095eee",
   "metadata": {},
   "outputs": [],
   "source": [
    "def get_playlist_tracks(playlist_id):\n",
    "    results = sp.user_playlist_tracks(\"spotify\",playlist_id)\n",
    "    tracks = results['items']\n",
    "    while results['next']!=None:\n",
    "        results = sp.next(results)\n",
    "        tracks = tracks + results['items']\n",
    "        sleep(randint(1,3))\n",
    "    return tracks"
   ]
  },
  {
   "cell_type": "markdown",
   "id": "f49098c0",
   "metadata": {},
   "source": [
    "I will mix several TOP song lists"
   ]
  },
  {
   "cell_type": "code",
   "execution_count": null,
   "id": "c0577bfb",
   "metadata": {},
   "outputs": [],
   "source": [
    "plIds = [\"37i9dQZEVXbMDoHDwVN2tF\",\"4NLrcCMFyUgtXor7EjlE7d\",\"5ZyAjPmaz9KOB4f73RFYvi\",\"6MJSGcF4iV79gyo8xZpd8U\", \n",
    "         \"6CfQ2Ptcxju9l6YC2LXzUb\", \"4hNaqkezNNv7ImufYGHgkf\", \"1zrx1DCawPLg6Y8AMFgCUZ\", \"2iBH9S3UXlrtUBxjffgZEh\",\n",
    "         \"1cax1gYS1699tnR5bVjtiY\", \"2P4tjMKY8ORcUU17QBz83q\", \"5fcPNR6KXA3iYgNrvTDZpY\", \"62SVVpIhl7b5c82G0IH603\"]"
   ]
  },
  {
   "cell_type": "code",
   "execution_count": null,
   "id": "a1ffd1d0",
   "metadata": {},
   "outputs": [],
   "source": [
    "#Combining all lists in one\n",
    "all_tracks = []\n",
    "for i in range(len(plIds)):\n",
    "    all_tracks = all_tracks + (get_playlist_tracks(plIds[i]))"
   ]
  },
  {
   "cell_type": "code",
   "execution_count": null,
   "id": "0813093f",
   "metadata": {},
   "outputs": [],
   "source": [
    "title = []\n",
    "artist = []\n",
    "danceability = []\n",
    "energy = []\n",
    "key = []\n",
    "loudness = []\n",
    "mode = []\n",
    "speechiness = []\n",
    "acousticness = []\n",
    "instrumentalness = []\n",
    "liveness = []\n",
    "valence = []\n",
    "tempo = []\n",
    "\n",
    "\n",
    "for i in range(len(all_tracks)):\n",
    "    title.append(all_tracks[i][\"track\"][\"name\"])\n",
    "    artist.append(all_tracks[i]['track']['artists'][0]['name'])\n",
    "    song_uri = all_tracks[i][\"track\"][\"uri\"]\n",
    "    audio = sp.audio_features(song_uri)\n",
    "    danceability.append(audio[0]['danceability'])\n",
    "    energy.append(audio[0]['energy'])\n",
    "    key.append(audio[0]['key'])\n",
    "    loudness.append(audio[0]['loudness'])\n",
    "    mode.append(audio[0]['mode'])\n",
    "    speechiness.append(audio[0]['speechiness'])\n",
    "    acousticness.append(audio[0]['acousticness'])\n",
    "    instrumentalness.append(audio[0]['instrumentalness'])\n",
    "    liveness.append(audio[0]['liveness'])\n",
    "    valence.append(audio[0]['valence'])\n",
    "    tempo.append(audio[0]['tempo'])\n",
    "    sleep(randint(1,3))\n",
    "    \n",
    "audioFeatures = pd.DataFrame({\"title\":title,\n",
    "                        \"artist\":artist,\n",
    "                        \"danceability\":danceability,\n",
    "                        \"energy\":energy,\n",
    "                        \"key\":key,\n",
    "                        \"loudness\":loudness,\n",
    "                        \"mode\":mode,\n",
    "                        \"speechiness\":speechiness,\n",
    "                        \"acousticness\":acousticness,\n",
    "                        \"instrumentalness\":instrumentalness,\n",
    "                        \"liveness\":liveness,\n",
    "                        \"valence\":valence,\n",
    "                        \"tempo\":tempo\n",
    "                      })"
   ]
  },
  {
   "cell_type": "code",
   "execution_count": 6,
   "id": "071f40e9",
   "metadata": {},
   "outputs": [],
   "source": [
    "#Importing a saved copy of the songs with their audio features which I obtained with the instructions above\n",
    "audioFeatures = pd.read_csv('TOPListsLarge.csv')"
   ]
  },
  {
   "cell_type": "code",
   "execution_count": 7,
   "id": "899b556a",
   "metadata": {},
   "outputs": [],
   "source": [
    "#Droping duplicates\n",
    "audioFeatures = audioFeatures.drop_duplicates(['title'], keep='first')"
   ]
  },
  {
   "cell_type": "code",
   "execution_count": 8,
   "id": "7061cccd",
   "metadata": {},
   "outputs": [],
   "source": [
    "#Creating a copy\n",
    "audioFeatures2 = audioFeatures.copy()"
   ]
  },
  {
   "cell_type": "markdown",
   "id": "8a0b840c",
   "metadata": {},
   "source": [
    "### KMeans "
   ]
  },
  {
   "cell_type": "code",
   "execution_count": 9,
   "id": "ab4ef78b",
   "metadata": {},
   "outputs": [],
   "source": [
    "#Splitting the 2\n",
    "y = audioFeatures['title']\n",
    "X_audio = audioFeatures.drop(['artist','title'], axis=1)\n",
    "#Scaling X\n",
    "scaler = StandardScaler()\n",
    "X_prep = scaler.fit_transform(X_audio)\n",
    "joblib.dump(scaler, 'scaler.bin')\n",
    "#Aplying KMeans\n",
    "kmeansCreated = KMeans(n_clusters=4, random_state=1234)\n",
    "kmeansCreated.fit(X_prep)\n",
    "clusters = kmeansCreated.predict(X_prep)\n",
    "#Creating a column with the cluster from each Song\n",
    "audioFeatures2['cluster'] = clusters"
   ]
  },
  {
   "cell_type": "markdown",
   "id": "e2212084",
   "metadata": {},
   "source": [
    "Now, I have the hole list:\n",
    "\n",
    "    - \"List of many songs with theis audio features clustered\": audioFeatures2\n",
    "    \n",
    "So i will continue creating some functions to get the cluster of the song"
   ]
  },
  {
   "cell_type": "code",
   "execution_count": 10,
   "id": "336ef401",
   "metadata": {},
   "outputs": [],
   "source": [
    "def SongAudioFeat(song, audio):\n",
    "    #Creating a DF with the audio Features\n",
    "    SongAudioFeatures = pd.DataFrame()\n",
    "    SongAudioFeatures[\"title\"] = [song[\"tracks\"][\"items\"][0][\"name\"]]\n",
    "    SongAudioFeatures[\"danceability\"] = [audio[0]['danceability']]\n",
    "    SongAudioFeatures[\"energy\"] = [audio[0]['energy']]\n",
    "    SongAudioFeatures[\"key\"] = [audio[0]['key']]\n",
    "    SongAudioFeatures[\"loudness\"] = [audio[0]['loudness']]\n",
    "    SongAudioFeatures[\"mode\"] = [audio[0]['mode']]\n",
    "    SongAudioFeatures[\"speechiness\"] = [audio[0]['speechiness']]\n",
    "    SongAudioFeatures[\"acousticness\"] = [audio[0]['acousticness']]\n",
    "    SongAudioFeatures[\"instrumentalness\"] = [audio[0]['instrumentalness']]\n",
    "    SongAudioFeatures[\"liveness\"] = [audio[0]['liveness']]\n",
    "    SongAudioFeatures[\"valence\"] = [audio[0]['valence']]\n",
    "    SongAudioFeatures[\"tempo\"] = [audio[0]['tempo']]\n",
    "    \n",
    "    return(SongAudioFeatures)"
   ]
  },
  {
   "cell_type": "code",
   "execution_count": 11,
   "id": "79188b08",
   "metadata": {},
   "outputs": [],
   "source": [
    "def cluster_for_a_Song(SongAudioFeatures, kmeans, scaler=joblib.load('scaler.bin')):\n",
    "    #Splitting the DF\n",
    "    y = SongAudioFeatures['title']\n",
    "    X_audio = SongAudioFeatures.drop(['title'], axis=1)\n",
    "    #Scaling X\n",
    "    X_prep = scaler.transform(X_audio)\n",
    "    #Aplying KMeans to calculate the cluster\n",
    "    cluster = kmeansCreated.predict(X_prep)\n",
    "    \n",
    "    return (cluster)"
   ]
  },
  {
   "cell_type": "markdown",
   "id": "58d10b1f",
   "metadata": {},
   "source": [
    "### Recommender"
   ]
  },
  {
   "cell_type": "markdown",
   "id": "76feab6d",
   "metadata": {},
   "source": [
    "I ask for a song and I get its cluster to give a recommendation"
   ]
  },
  {
   "cell_type": "code",
   "execution_count": 12,
   "id": "75d2a90d",
   "metadata": {
    "scrolled": false
   },
   "outputs": [
    {
     "name": "stdout",
     "output_type": "stream",
     "text": [
      "What is your song title?\n",
      "Do It to It\n",
      "Recommended song: Halo\n",
      "You can listen it here: https://open.spotify.com/track/4JehYebiI9JE8sR8MisGVb\n",
      "Recommended artist: Outlandish\n",
      "You can listen one of his songs here: https://open.spotify.com/track/5HERF1jKSRu3mMB1YTwzFC\n"
     ]
    }
   ],
   "source": [
    "#Asking for a Song\n",
    "print(\"What is your song title?\")\n",
    "favSong = input()\n",
    "\n",
    "#Looking for a Recomendation\n",
    "        \n",
    "#If it's in the general list, I will recommend a song from its cluster    \n",
    "if favSong in audioFeatures2['title'].values:\n",
    "    songRow = audioFeatures2[audioFeatures2.title == favSong]\n",
    "    PossSongs = audioFeatures2[audioFeatures2.cluster == int(songRow.cluster.to_string(index=False))]\n",
    "    RecSong = PossSongs['title'].sample().to_string(index=False)\n",
    "    print(\"Recommended song:\", RecSong)\n",
    "    #Looking for it on Spotify\n",
    "    song = sp.search(q=RecSong, limit=1)\n",
    "    link = song[\"tracks\"][\"items\"][0]['external_urls']['spotify']\n",
    "    print(\"You can find it here:\", link)\n",
    "        \n",
    "#If it isn't listed i will look for it on Spotify, cluster it and recommend a song from its cluster\n",
    "else: \n",
    "    #Searching for the song and its audio features in Spotify\n",
    "    song = sp.search(q=favSong, limit=1)\n",
    "    song_uri = song[\"tracks\"][\"items\"][0][\"uri\"] \n",
    "    audio = sp.audio_features(song_uri)\n",
    "    #Checking if it exists and it has audio features:\n",
    "    if ((len(song['tracks']['items']) > 0) & (len(audio)>0)):\n",
    "        #Calculating its cluster\n",
    "        SongAudioFeatures = SongAudioFeat(song, audio)\n",
    "        cluster = int(cluster_for_a_Song(SongAudioFeatures, kmeansCreated))\n",
    "        #Recomending a song with the same cluster\n",
    "        PossSongs = audioFeatures2[audioFeatures2.cluster == cluster]\n",
    "        RecSong = PossSongs['title'].sample().to_string(index=False)\n",
    "        print(\"Recommended song:\", RecSong)\n",
    "        #Looking for it on Spotify\n",
    "        song = sp.search(q=RecSong, limit=1)\n",
    "        link = song[\"tracks\"][\"items\"][0]['external_urls']['spotify']\n",
    "        print(\"You can listen it here:\", link)\n",
    "        \n",
    "        #Looking for an artist\n",
    "        RecArtist = PossSongs['artist'].sample().to_string(index=False)\n",
    "        artist = sp.search(q=RecArtist, limit=1)\n",
    "        print(\"Recommended artist:\", RecArtist)\n",
    "        link = artist[\"tracks\"][\"items\"][0]['external_urls']['spotify']\n",
    "        print(\"You can listen one of his songs here:\", link)\n",
    "    else: \n",
    "        print(\"Your song is not listed on Spotify or its audio features are not available\")"
   ]
  }
 ],
 "metadata": {
  "kernelspec": {
   "display_name": "Python 3 (ipykernel)",
   "language": "python",
   "name": "python3"
  },
  "language_info": {
   "codemirror_mode": {
    "name": "ipython",
    "version": 3
   },
   "file_extension": ".py",
   "mimetype": "text/x-python",
   "name": "python",
   "nbconvert_exporter": "python",
   "pygments_lexer": "ipython3",
   "version": "3.9.7"
  }
 },
 "nbformat": 4,
 "nbformat_minor": 5
}
